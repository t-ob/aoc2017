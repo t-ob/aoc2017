{
 "cells": [
  {
   "cell_type": "code",
   "execution_count": 1,
   "metadata": {},
   "outputs": [],
   "source": [
    "def reverse_in_place(data, i, j):\n",
    "    k = (j - i) // 2 + 1\n",
    "    for l in range(k):\n",
    "        tmp = data[(i + l) % len(data)]\n",
    "        data[(i + l) % len(data)] = data[(j - l) % len(data)]\n",
    "        data[(j - l) % len(data)] = tmp"
   ]
  },
  {
   "cell_type": "code",
   "execution_count": 2,
   "metadata": {},
   "outputs": [
    {
     "data": {
      "text/plain": [
       "20056"
      ]
     },
     "execution_count": 2,
     "metadata": {},
     "output_type": "execute_result"
    }
   ],
   "source": [
    "data = [x for x in range(256)]\n",
    "lengths = [83,0,193,1,254,237,187,40,88,27,2,255,149,29,42,100]\n",
    "\n",
    "current_position = 0\n",
    "skip_size = 0\n",
    "for length in lengths:\n",
    "    reverse_in_place(data, current_position, current_position + length - 1)\n",
    "    current_position = (current_position + length + skip_size) % len(data)\n",
    "    skip_size += 1\n",
    "    \n",
    "data[0] * data[1]"
   ]
  },
  {
   "cell_type": "code",
   "execution_count": 3,
   "metadata": {},
   "outputs": [
    {
     "data": {
      "text/plain": [
       "'d9a7de4a809c56bf3a9465cb84392c8e'"
      ]
     },
     "execution_count": 3,
     "metadata": {},
     "output_type": "execute_result"
    }
   ],
   "source": [
    "data = [x for x in range(256)]\n",
    "\n",
    "input = '83,0,193,1,254,237,187,40,88,27,2,255,149,29,42,100'\n",
    "lengths = [ord(c) for c in input] + [17, 31, 73, 47, 23]\n",
    "rounds = 64\n",
    "\n",
    "current_position = 0\n",
    "skip_size = 0\n",
    "\n",
    "while rounds > 0:\n",
    "    for length in lengths:\n",
    "        reverse_in_place(data, current_position, current_position + length - 1)\n",
    "        current_position = (current_position + length + skip_size) % len(data)\n",
    "        skip_size += 1\n",
    "    rounds -= 1\n",
    "    \n",
    "sparse_hash = data\n",
    "\n",
    "dense_hash_xor_chunks = []\n",
    "\n",
    "chunk = 0\n",
    "while chunk < 16:\n",
    "    xor_chunk = 0\n",
    "    for b in sparse_hash[chunk*16:(chunk+1)*16]:\n",
    "        xor_chunk ^= b\n",
    "    dense_hash_xor_chunks.append(xor_chunk)\n",
    "    chunk += 1\n",
    "    \n",
    "''.join(['{:02x}'.format(chunk) for chunk in dense_hash_xor_chunks])"
   ]
  }
 ],
 "metadata": {
  "kernelspec": {
   "display_name": "Python 3",
   "language": "python",
   "name": "python3"
  },
  "language_info": {
   "codemirror_mode": {
    "name": "ipython",
    "version": 3
   },
   "file_extension": ".py",
   "mimetype": "text/x-python",
   "name": "python",
   "nbconvert_exporter": "python",
   "pygments_lexer": "ipython3",
   "version": "3.6.1"
  }
 },
 "nbformat": 4,
 "nbformat_minor": 2
}
