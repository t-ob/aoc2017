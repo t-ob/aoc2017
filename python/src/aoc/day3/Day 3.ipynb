{
 "cells": [
  {
   "cell_type": "code",
   "execution_count": 1,
   "metadata": {},
   "outputs": [],
   "source": [
    "def day3(v):\n",
    "\n",
    "    k = 0\n",
    "    while (2*k + 1) ** 2 < v:\n",
    "        k += 1\n",
    "        \n",
    "    n = (v - ((2*k - 1)**2 + 1))\n",
    "    r = n % (2 * k)\n",
    "    q = n // (2 * k)\n",
    "        \n",
    "    if q == 0:\n",
    "        d = abs(k) + abs(-(k-1) + r)\n",
    "    elif q == 1:\n",
    "        d = abs(k-1 - r) + abs(k)\n",
    "    elif q == 2:\n",
    "        d = abs(-k) + abs(k-1 - r)\n",
    "    else:\n",
    "        d = abs(-(k-1) + r) + abs(-k)\n",
    "            \n",
    "    return d"
   ]
  },
  {
   "cell_type": "code",
   "execution_count": 2,
   "metadata": {},
   "outputs": [
    {
     "data": {
      "text/plain": [
       "419"
      ]
     },
     "execution_count": 2,
     "metadata": {},
     "output_type": "execute_result"
    }
   ],
   "source": [
    "day3(289326)"
   ]
  },
  {
   "cell_type": "code",
   "execution_count": 3,
   "metadata": {},
   "outputs": [],
   "source": [
    "def day3_part2(w):\n",
    "    v = 2\n",
    "    memo = {(0, 0): 1}\n",
    "    \n",
    "    last_v = 1\n",
    "    \n",
    "    while last_v < w:\n",
    "\n",
    "        k = 0\n",
    "        while (2*k + 1) ** 2 < v:\n",
    "            k += 1\n",
    "\n",
    "        n = (v - ((2*k - 1)**2 + 1))\n",
    "        r = n % (2 * k)\n",
    "        q = n // (2 * k)\n",
    "\n",
    "        if q == 0:\n",
    "            c = (k, -(k-1) + r)\n",
    "        elif q == 1:\n",
    "            c = (k-1 - r, k)\n",
    "        elif q == 2:\n",
    "            c = (-k, k-1 - r)\n",
    "        else:\n",
    "            c = (-(k-1) + r, -k)\n",
    "            \n",
    "        coords = [(c[0] + x, c[1] + y) \n",
    "                  for x in [-1, 0, 1] \n",
    "                  for y in [-1, 0, 1] \n",
    "                  if not (x == 0 and y == 0)]\n",
    "        \n",
    "        neighbour_sum = 0\n",
    "        for d in coords:\n",
    "            neighbour_sum += memo.get(d, 0)\n",
    "            \n",
    "        memo[c] = neighbour_sum\n",
    "        \n",
    "        last_v = neighbour_sum\n",
    "        \n",
    "        v += 1\n",
    "\n",
    "    return last_v"
   ]
  },
  {
   "cell_type": "code",
   "execution_count": 4,
   "metadata": {},
   "outputs": [
    {
     "data": {
      "text/plain": [
       "295229"
      ]
     },
     "execution_count": 4,
     "metadata": {},
     "output_type": "execute_result"
    }
   ],
   "source": [
    "day3_part2(289326)"
   ]
  }
 ],
 "metadata": {
  "kernelspec": {
   "display_name": "Python 3",
   "language": "python",
   "name": "python3"
  },
  "language_info": {
   "codemirror_mode": {
    "name": "ipython",
    "version": 3
   },
   "file_extension": ".py",
   "mimetype": "text/x-python",
   "name": "python",
   "nbconvert_exporter": "python",
   "pygments_lexer": "ipython3",
   "version": "3.6.1"
  }
 },
 "nbformat": 4,
 "nbformat_minor": 2
}
