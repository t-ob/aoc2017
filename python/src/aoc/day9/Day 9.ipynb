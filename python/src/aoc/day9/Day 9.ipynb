{
 "cells": [
  {
   "cell_type": "code",
   "execution_count": 1,
   "metadata": {},
   "outputs": [],
   "source": [
    "with open('input.txt') as fd:\n",
    "    stream = fd.read()"
   ]
  },
  {
   "cell_type": "code",
   "execution_count": 2,
   "metadata": {},
   "outputs": [],
   "source": [
    "total = 0\n",
    "score = 0\n",
    "total_garbage = 0\n",
    "\n",
    "ignore_next = False\n",
    "garbage = False\n",
    "\n",
    "for c in stream:\n",
    "    if ignore_next:\n",
    "        ignore_next = False\n",
    "        continue\n",
    "        \n",
    "    if c == '!':\n",
    "        ignore_next = True\n",
    "        continue\n",
    "        \n",
    "    if c == '<' and not garbage:\n",
    "        garbage = True\n",
    "        continue\n",
    "        \n",
    "    if c == '>':\n",
    "        garbage = False\n",
    "        continue\n",
    "        \n",
    "    if garbage:\n",
    "        total_garbage += 1\n",
    "        continue\n",
    "        \n",
    "    if c == '{':\n",
    "        score += 1\n",
    "\n",
    "    if c == '}':\n",
    "        total += score\n",
    "        score -= 1\n"
   ]
  },
  {
   "cell_type": "code",
   "execution_count": 3,
   "metadata": {},
   "outputs": [
    {
     "data": {
      "text/plain": [
       "(21037, 9495)"
      ]
     },
     "execution_count": 3,
     "metadata": {},
     "output_type": "execute_result"
    }
   ],
   "source": [
    "total, total_garbage"
   ]
  }
 ],
 "metadata": {
  "kernelspec": {
   "display_name": "Python 3",
   "language": "python",
   "name": "python3"
  },
  "language_info": {
   "codemirror_mode": {
    "name": "ipython",
    "version": 3
   },
   "file_extension": ".py",
   "mimetype": "text/x-python",
   "name": "python",
   "nbconvert_exporter": "python",
   "pygments_lexer": "ipython3",
   "version": "3.6.1"
  }
 },
 "nbformat": 4,
 "nbformat_minor": 2
}
