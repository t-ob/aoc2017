{
 "cells": [
  {
   "cell_type": "code",
   "execution_count": 4,
   "metadata": {},
   "outputs": [
    {
     "data": {
      "text/plain": [
       "{'eugwuhl'}"
      ]
     },
     "execution_count": 4,
     "metadata": {},
     "output_type": "execute_result"
    }
   ],
   "source": [
    "def parse_line(line):\n",
    "    tokens = line.strip().replace(',', ' ').replace('(', '').replace(')', '').split()\n",
    "    head = tokens[0]\n",
    "    weight = int(tokens[1])\n",
    "    children = tokens[3:]\n",
    "    return head, weight, children\n",
    "\n",
    "data = []\n",
    "\n",
    "with open('input.txt') as fd:\n",
    "    for line in fd:\n",
    "        if line:\n",
    "            data.append(parse_line(line))\n",
    "        \n",
    "        \n",
    "seen_heads = set()\n",
    "seen_children = set()\n",
    "\n",
    "for head, _, children in data:\n",
    "    seen_heads.add(head)\n",
    "    seen_children.update(children)\n",
    "    \n",
    "seen_heads - seen_children"
   ]
  },
  {
   "cell_type": "code",
   "execution_count": 11,
   "metadata": {},
   "outputs": [],
   "source": [
    "root = list(seen_heads - seen_children)[0]\n",
    "\n",
    "tree = {}\n",
    "\n",
    "for head, weight, children in data:\n",
    "    tree[head] = weight, children\n",
    "    \n",
    "def weight(tree, node):\n",
    "    node_weight, node_children = tree[node]\n",
    "    if not node_children:\n",
    "        return node_weight\n",
    "    \n",
    "    return node_weight + sum(weight(tree, child) for child in node_children)"
   ]
  },
  {
   "cell_type": "code",
   "execution_count": 12,
   "metadata": {},
   "outputs": [
    {
     "data": {
      "text/plain": [
       "(18, ['avpklqy', 'tytbgx', 'bdohoaa', 'smaygo', 'pvvbn', 'hgizeb', 'tchfafn'])"
      ]
     },
     "execution_count": 12,
     "metadata": {},
     "output_type": "execute_result"
    }
   ],
   "source": [
    "tree[root]"
   ]
  },
  {
   "cell_type": "code",
   "execution_count": 18,
   "metadata": {},
   "outputs": [
    {
     "data": {
      "text/plain": [
       "[(48284, 'avpklqy'),\n",
       " (48284, 'tytbgx'),\n",
       " (48284, 'bdohoaa'),\n",
       " (48292, 'smaygo'),\n",
       " (48284, 'pvvbn'),\n",
       " (48284, 'hgizeb'),\n",
       " (48284, 'tchfafn')]"
      ]
     },
     "execution_count": 18,
     "metadata": {},
     "output_type": "execute_result"
    }
   ],
   "source": [
    "[(weight(tree, child), child) for child in tree[root][1]]"
   ]
  },
  {
   "cell_type": "code",
   "execution_count": 20,
   "metadata": {},
   "outputs": [
    {
     "data": {
      "text/plain": [
       "[(14564, 'hmgrlpj'), (14556, 'fbnbt'), (14556, 'nfdvsc')]"
      ]
     },
     "execution_count": 20,
     "metadata": {},
     "output_type": "execute_result"
    }
   ],
   "source": [
    "[(weight(tree, child), child) for child in tree['smaygo'][1]]"
   ]
  },
  {
   "cell_type": "code",
   "execution_count": 22,
   "metadata": {},
   "outputs": [
    {
     "data": {
      "text/plain": [
       "[(2070, 'pnqrgfk'),\n",
       " (2070, 'luasrvp'),\n",
       " (2070, 'ahrfh'),\n",
       " (2070, 'tbfce'),\n",
       " (2078, 'drjmjug'),\n",
       " (2070, 'nigdlq'),\n",
       " (2070, 'omytneg')]"
      ]
     },
     "execution_count": 22,
     "metadata": {},
     "output_type": "execute_result"
    }
   ],
   "source": [
    "[(weight(tree, child), child) for child in tree['hmgrlpj'][1]]"
   ]
  },
  {
   "cell_type": "code",
   "execution_count": 23,
   "metadata": {},
   "outputs": [
    {
     "data": {
      "text/plain": [
       "[(330, 'goiwg'),\n",
       " (330, 'sbogacc'),\n",
       " (330, 'jdvxawc'),\n",
       " (330, 'wlczi'),\n",
       " (330, 'vinbva')]"
      ]
     },
     "execution_count": 23,
     "metadata": {},
     "output_type": "execute_result"
    }
   ],
   "source": [
    "[(weight(tree, child), child) for child in tree['drjmjug'][1]]"
   ]
  },
  {
   "cell_type": "code",
   "execution_count": 25,
   "metadata": {},
   "outputs": [
    {
     "data": {
      "text/plain": [
       "(428, ['goiwg', 'sbogacc', 'jdvxawc', 'wlczi', 'vinbva'])"
      ]
     },
     "execution_count": 25,
     "metadata": {},
     "output_type": "execute_result"
    }
   ],
   "source": [
    "tree['drjmjug']"
   ]
  },
  {
   "cell_type": "code",
   "execution_count": 28,
   "metadata": {},
   "outputs": [
    {
     "data": {
      "text/plain": [
       "(2+0j)"
      ]
     },
     "execution_count": 28,
     "metadata": {},
     "output_type": "execute_result"
    }
   ],
   "source": []
  },
  {
   "cell_type": "code",
   "execution_count": null,
   "metadata": {},
   "outputs": [],
   "source": [
    "node = head\n",
    "while True:\n",
    "    node_weight, children = tree[node]\n",
    "    \n",
    "    children_with_weights = []\n",
    "    for child in children:\n",
    "        child_weight = weight(tree, child)\n",
    "        \n",
    "\n",
    "    for child\n",
    "    children_with_weights = [(child, weight(tree, child)) for child in tree[node]]\n",
    "    if all(weight == children_with_weights[0][1] for _, weight in children_with_weights):\n",
    "        break\n",
    "        \n",
    "        \n",
    "    "
   ]
  }
 ],
 "metadata": {
  "kernelspec": {
   "display_name": "Python 3",
   "language": "python",
   "name": "python3"
  },
  "language_info": {
   "codemirror_mode": {
    "name": "ipython",
    "version": 3
   },
   "file_extension": ".py",
   "mimetype": "text/x-python",
   "name": "python",
   "nbconvert_exporter": "python",
   "pygments_lexer": "ipython3",
   "version": "3.6.1"
  }
 },
 "nbformat": 4,
 "nbformat_minor": 2
}
