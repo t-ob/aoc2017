{
 "cells": [
  {
   "cell_type": "code",
   "execution_count": 1,
   "metadata": {},
   "outputs": [],
   "source": [
    "from collections import defaultdict\n",
    "\n",
    "import operator"
   ]
  },
  {
   "cell_type": "code",
   "execution_count": 2,
   "metadata": {},
   "outputs": [],
   "source": [
    "OPS = {\n",
    "    'inc': operator.add,\n",
    "    'dec': operator.sub,\n",
    "}\n",
    "\n",
    "COMPS = {\n",
    "    '>': operator.gt,\n",
    "    '>=': operator.ge,\n",
    "    '<': operator.lt,\n",
    "    '<=': operator.le,\n",
    "    '==': operator.eq,\n",
    "    '!=': operator.ne,\n",
    "}\n",
    "\n",
    "def parse_instruction(instruction):\n",
    "    tokens = instruction.split()\n",
    "    dest_register = tokens[0]\n",
    "    dest_op = OPS[tokens[1]]\n",
    "    dest_val = int(tokens[2])\n",
    "    test_register = tokens[4]\n",
    "    test_comp = COMPS[tokens[5]]\n",
    "    test_val = int(tokens[6])\n",
    "    return dest_register, dest_op, dest_val, test_register, test_comp, test_val"
   ]
  },
  {
   "cell_type": "code",
   "execution_count": 3,
   "metadata": {},
   "outputs": [],
   "source": [
    "registers = defaultdict(int)\n",
    "max_val = 0\n",
    "\n",
    "with open('instructions.txt', 'r') as fd:\n",
    "    for line in fd:\n",
    "        if not line:\n",
    "            continue\n",
    "        \n",
    "        dest_register, dest_op, dest_val, test_register, test_comp, test_val = parse_instruction(line.strip())\n",
    "                \n",
    "        if test_comp(registers[test_register], test_val):\n",
    "            registers[dest_register] = dest_op(registers[dest_register], dest_val)\n",
    "            \n",
    "        if registers[dest_register] > max_val:\n",
    "            max_val = registers[dest_register]"
   ]
  },
  {
   "cell_type": "code",
   "execution_count": 4,
   "metadata": {},
   "outputs": [
    {
     "data": {
      "text/plain": [
       "(5215, 6419)"
      ]
     },
     "execution_count": 4,
     "metadata": {},
     "output_type": "execute_result"
    }
   ],
   "source": [
    "max(registers.values()), max_val"
   ]
  }
 ],
 "metadata": {
  "kernelspec": {
   "display_name": "Python 3",
   "language": "python",
   "name": "python3"
  },
  "language_info": {
   "codemirror_mode": {
    "name": "ipython",
    "version": 3
   },
   "file_extension": ".py",
   "mimetype": "text/x-python",
   "name": "python",
   "nbconvert_exporter": "python",
   "pygments_lexer": "ipython3",
   "version": "3.6.1"
  }
 },
 "nbformat": 4,
 "nbformat_minor": 2
}
