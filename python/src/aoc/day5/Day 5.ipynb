{
 "cells": [
  {
   "cell_type": "code",
   "execution_count": 6,
   "metadata": {},
   "outputs": [],
   "source": [
    "input = []\n",
    "with open ('input') as fd:\n",
    "    for line in fd:\n",
    "        input.append(int(line.strip()))"
   ]
  },
  {
   "cell_type": "code",
   "execution_count": 7,
   "metadata": {},
   "outputs": [],
   "source": [
    "def day5(input):\n",
    "    offsets = input[:]\n",
    "    n = 0\n",
    "    i = 0\n",
    "    while True:\n",
    "        try:\n",
    "            n += 1\n",
    "            offset = offsets[i]\n",
    "            offsets[i] += 1\n",
    "            i += offset\n",
    "        except IndexError:\n",
    "            break\n",
    "\n",
    "    return n - 1"
   ]
  },
  {
   "cell_type": "code",
   "execution_count": 8,
   "metadata": {},
   "outputs": [
    {
     "data": {
      "text/plain": [
       "325922"
      ]
     },
     "execution_count": 8,
     "metadata": {},
     "output_type": "execute_result"
    }
   ],
   "source": [
    "day5(input)"
   ]
  },
  {
   "cell_type": "code",
   "execution_count": 9,
   "metadata": {},
   "outputs": [],
   "source": [
    "def day5_part2(input):\n",
    "    offsets = input[:]\n",
    "    n = 0\n",
    "    i = 0\n",
    "    while True:\n",
    "        try:\n",
    "            n += 1\n",
    "            offset = offsets[i]\n",
    "            if offsets[i] >= 3:\n",
    "                offsets[i] -= 1\n",
    "            else:\n",
    "                offsets[i] += 1\n",
    "\n",
    "            i += offset\n",
    "        except IndexError:\n",
    "            break\n",
    "\n",
    "    return n - 1"
   ]
  },
  {
   "cell_type": "code",
   "execution_count": 10,
   "metadata": {},
   "outputs": [
    {
     "data": {
      "text/plain": [
       "24490906"
      ]
     },
     "execution_count": 10,
     "metadata": {},
     "output_type": "execute_result"
    }
   ],
   "source": [
    "day5_part2(input)"
   ]
  },
  {
   "cell_type": "code",
   "execution_count": null,
   "metadata": {},
   "outputs": [],
   "source": []
  }
 ],
 "metadata": {
  "kernelspec": {
   "display_name": "Python 3",
   "language": "python",
   "name": "python3"
  },
  "language_info": {
   "codemirror_mode": {
    "name": "ipython",
    "version": 3
   },
   "file_extension": ".py",
   "mimetype": "text/x-python",
   "name": "python",
   "nbconvert_exporter": "python",
   "pygments_lexer": "ipython3",
   "version": "3.6.1"
  }
 },
 "nbformat": 4,
 "nbformat_minor": 2
}
