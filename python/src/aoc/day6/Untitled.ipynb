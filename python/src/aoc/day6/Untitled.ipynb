{
 "cells": [
  {
   "cell_type": "code",
   "execution_count": 1,
   "metadata": {},
   "outputs": [],
   "source": [
    "input = \"4\t10\t4\t1\t8\t4\t9\t14\t5\t1\t14\t15\t0\t15\t3\t5\"\n",
    "banks = [int(s) for s in input.split()]"
   ]
  },
  {
   "cell_type": "code",
   "execution_count": 14,
   "metadata": {},
   "outputs": [],
   "source": [
    "banks\n",
    "def iteration(banks):\n",
    "    argmax, max_val = 0, banks[0]\n",
    "    for arg, val in enumerate(banks):\n",
    "        if val > max_val:\n",
    "            argmax = arg\n",
    "            max_val = val\n",
    "    banks[argmax] = 0\n",
    "    idx = (argmax + 1) % len(banks)\n",
    "    while max_val > 0:\n",
    "        banks[idx] += 1\n",
    "        idx = (idx + 1) % len(banks)\n",
    "        max_val -= 1\n",
    "        \n",
    "def day6(banks):\n",
    "    banks_copy = banks[:]\n",
    "    seen = set(tuple(banks_copy))\n",
    "    n = 0\n",
    "    while True:\n",
    "        iteration(banks_copy)\n",
    "        n += 1\n",
    "        if tuple(banks_copy) in seen:\n",
    "            break\n",
    "        seen.add(tuple(banks_copy))\n",
    "            \n",
    "    return n\n",
    "\n",
    "def day6_part2(banks):\n",
    "    banks_copy = banks[:]\n",
    "    n = 0\n",
    "    seen = {tuple(banks_copy): n}\n",
    "\n",
    "    while True:\n",
    "        iteration(banks_copy)\n",
    "        n += 1\n",
    "        if tuple(banks_copy) in seen:\n",
    "            break\n",
    "        seen[tuple(banks_copy)] = n\n",
    "            \n",
    "    return n - seen[tuple(banks_copy)]"
   ]
  },
  {
   "cell_type": "code",
   "execution_count": 13,
   "metadata": {},
   "outputs": [
    {
     "data": {
      "text/plain": [
       "12841"
      ]
     },
     "execution_count": 13,
     "metadata": {},
     "output_type": "execute_result"
    }
   ],
   "source": [
    "day6(banks)"
   ]
  },
  {
   "cell_type": "code",
   "execution_count": 15,
   "metadata": {},
   "outputs": [
    {
     "data": {
      "text/plain": [
       "8038"
      ]
     },
     "execution_count": 15,
     "metadata": {},
     "output_type": "execute_result"
    }
   ],
   "source": [
    "day6_part2(banks)"
   ]
  },
  {
   "cell_type": "code",
   "execution_count": null,
   "metadata": {},
   "outputs": [],
   "source": []
  }
 ],
 "metadata": {
  "kernelspec": {
   "display_name": "Python 3",
   "language": "python",
   "name": "python3"
  },
  "language_info": {
   "codemirror_mode": {
    "name": "ipython",
    "version": 3
   },
   "file_extension": ".py",
   "mimetype": "text/x-python",
   "name": "python",
   "nbconvert_exporter": "python",
   "pygments_lexer": "ipython3",
   "version": "3.6.1"
  }
 },
 "nbformat": 4,
 "nbformat_minor": 2
}
